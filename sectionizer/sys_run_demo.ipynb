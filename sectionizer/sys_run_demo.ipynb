{
 "cells": [
  {
   "cell_type": "markdown",
   "metadata": {},
   "source": [
    "## How to run the code, and demo shows from raw input string to predictions"
   ]
  },
  {
   "cell_type": "code",
   "execution_count": 3,
   "metadata": {},
   "outputs": [],
   "source": [
    "from __future__ import print_function\n",
    "import pandas as pd\n",
    "import torch\n",
    "\n",
    "from sectionize_docs import *\n",
    "from src.n_proc import *\n",
    "\n",
    "from transformers import AutoTokenizer, AutoModelForSequenceClassification\n",
    "# specifiy device\n",
    "device = torch.device(\"cuda\" if torch.cuda.is_available() else \"cpu\")"
   ]
  },
  {
   "cell_type": "code",
   "execution_count": 4,
   "metadata": {},
   "outputs": [],
   "source": [
    "# read in the sample csv file\n",
    "df = pd.read_csv('Anna.csv')"
   ]
  },
  {
   "cell_type": "code",
   "execution_count": null,
   "metadata": {},
   "outputs": [],
   "source": [
    "df['text'] = df['Full Text']\n",
    "# extract the sections\n",
    "ih, ap = get_sections(list(df['text']))\n",
    "df['ih'] = ih\n",
    "df['ap'] = ap\n",
    "\n",
    "sec = delete_sections(list(df['text']))\n",
    "df['sec_text'] = sec"
   ]
  },
  {
   "cell_type": "code",
   "execution_count": 6,
   "metadata": {},
   "outputs": [],
   "source": [
    "# preprocess text\n",
    "df['text'] = df['ih'].str.cat(df['ap'], sep=' ')\n",
    "df['text'] = df.apply(text2sec, axis=1)\n",
    "df['text'] = df.apply(text_preproc, axis=1)"
   ]
  },
  {
   "cell_type": "code",
   "execution_count": null,
   "metadata": {},
   "outputs": [],
   "source": [
    "from transformers import AutoTokenizer, AutoModelForSequenceClassification\n",
    "\n",
    "# note to Anna: you need to change this to your own path\n",
    "PATH = ''\n",
    "model_path = PATH\n",
    "tokenizer = AutoTokenizer.from_pretrained('microsoft/BiomedNLP-PubMedBERT-base-uncased-abstract-fulltext', model_max_length=512)\n",
    "model = AutoModelForSequenceClassification.from_pretrained(model_path)"
   ]
  },
  {
   "cell_type": "code",
   "execution_count": 8,
   "metadata": {},
   "outputs": [],
   "source": [
    "# doing prediction one by one here because I am not sure your inputs therefore i do not know how to batch it \n",
    "# x will be a string of text here\n",
    "result = []\n",
    "for x in df.text:\n",
    "    input_ids = tokenizer.encode(x, truncation=True, padding=True, return_tensors=\"pt\")\n",
    "    # Make prediction\n",
    "    outputs = model(input_ids)\n",
    "    probas = torch.softmax(outputs.logits, dim=1)\n",
    "    predicted_class = torch.argmax(probas, dim=1).item()\n",
    "    # Print predicted class\n",
    "    # print(\"Predicted class:\", predicted_class)\n",
    "    result.append(predicted_class)"
   ]
  },
  {
   "cell_type": "code",
   "execution_count": 9,
   "metadata": {},
   "outputs": [
    {
     "name": "stdout",
     "output_type": "stream",
     "text": [
      "[1, 1, 1, 1, 1, 1, 1, 1, 1, 1, 0, 0, 1, 1, 1, 1, 0]\n"
     ]
    }
   ],
   "source": [
    "# the correct result here should be [1, 1, 1, 1, 1, 1, 1, 1, 1, 1, 0, 0, 1, 1, 1, 1, 0]\n",
    "print(result)"
   ]
  }
 ],
 "metadata": {
  "kernelspec": {
   "display_name": "Python 3.8.16 ('anna')",
   "language": "python",
   "name": "python3"
  },
  "language_info": {
   "codemirror_mode": {
    "name": "ipython",
    "version": 3
   },
   "file_extension": ".py",
   "mimetype": "text/x-python",
   "name": "python",
   "nbconvert_exporter": "python",
   "pygments_lexer": "ipython3",
   "version": "3.8.16"
  },
  "orig_nbformat": 4,
  "vscode": {
   "interpreter": {
    "hash": "aa31ec1838ffda33c7ff4f760478bdbc565753f77e65850d6ce5a8dc3558ac8b"
   }
  }
 },
 "nbformat": 4,
 "nbformat_minor": 2
}
